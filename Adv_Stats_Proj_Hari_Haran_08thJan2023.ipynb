{
 "cells": [
  {
   "cell_type": "code",
   "execution_count": 1,
   "id": "ff45323f",
   "metadata": {},
   "outputs": [],
   "source": [
    "#importing packages\n",
    "\n",
    "import numpy as np\n",
    "import pandas as pd\n",
    "from scipy.stats import f\n",
    "import matplotlib.pyplot as plt \n",
    "%matplotlib inline\n",
    "import seaborn as sns\n",
    "import scipy.stats as stats\n",
    "from scipy.stats import ttest_1samp, ttest_ind\n",
    "from statsmodels.stats.power import ttest_power"
   ]
  },
  {
   "cell_type": "markdown",
   "id": "77c91dab",
   "metadata": {},
   "source": [
    "# Problem1\n",
    "\n",
    "## A physiotherapist with a male football team is interested in studying the relationship between foot injuries and the positions at which the players play from the data collected"
   ]
  },
  {
   "cell_type": "code",
   "execution_count": 1,
   "id": "93934baf",
   "metadata": {},
   "outputs": [
    {
     "data": {
      "image/png": "[encoded data removed]",
      "text/plain": [
       "<IPython.core.display.Image object>"
      ]
     },
     "execution_count": 1,
     "metadata": {
      "image/png": {
       "height": 500,
       "width": 500
      }
     },
     "output_type": "execute_result"
    }
   ],
   "source": [
    "from IPython.display import Image\n",
    "Image(filename='Football.png',width=500,height=500)"
   ]
  },
  {
   "cell_type": "markdown",
   "id": "efe8295a",
   "metadata": {},
   "source": [
    "### Q1.1 What is the probability that a randomly chosen player would suffer an injury?\n"
   ]
  },
  {
   "cell_type": "markdown",
   "id": "21002937",
   "metadata": {},
   "source": [
    "#### Answer"
   ]
  },
  {
   "cell_type": "code",
   "execution_count": 1,
   "id": "22f62353",
   "metadata": {},
   "outputs": [
    {
     "data": {
      "text/plain": [
       "38.3"
      ]
     },
     "execution_count": 1,
     "metadata": {},
     "output_type": "execute_result"
    }
   ],
   "source": [
    "Total_Payers = 235\n",
    "Total_Payers_not_injured = 90\n",
    "probability_of_injury = round(Total_Payers_not_injured/Total_Payers,4)*100\n",
    "probability_of_injury"
   ]
  },
  {
   "cell_type": "markdown",
   "id": "b18b7bd5",
   "metadata": {},
   "source": [
    "##### The probability that a randomly chosen player would suffer an injury is 38.3%"
   ]
  },
  {
   "cell_type": "markdown",
   "id": "bd3ac366",
   "metadata": {},
   "source": [
    "### Q1.2 What is the probability that a player is a forward or a winger?"
   ]
  },
  {
   "cell_type": "markdown",
   "id": "4e16b7c3",
   "metadata": {},
   "source": [
    "#### Answer"
   ]
  },
  {
   "cell_type": "code",
   "execution_count": 11,
   "id": "3b4561e0",
   "metadata": {},
   "outputs": [
    {
     "data": {
      "text/plain": [
       "52.339999999999996"
      ]
     },
     "execution_count": 11,
     "metadata": {},
     "output_type": "execute_result"
    }
   ],
   "source": [
    "T_forward = 94\n",
    "T_winger = 29\n",
    "T_win_for = T_forward + T_winger\n",
    "Total_players = 235\n",
    "pb_win_or_for = round(T_win_for/Total_players,4)*100\n",
    "pb_win_or_for"
   ]
  },
  {
   "cell_type": "markdown",
   "id": "65cbc930",
   "metadata": {},
   "source": [
    "##### The probability that a player is a forward or a winger is 52.34%"
   ]
  },
  {
   "cell_type": "markdown",
   "id": "de09f7ee",
   "metadata": {},
   "source": [
    "### Q1.3 What is the probability that a randomly chosen player plays in a striker position and has a foot injury?\n",
    "\n",
    "#### Answer"
   ]
  },
  {
   "cell_type": "code",
   "execution_count": 19,
   "id": "2abae83c",
   "metadata": {},
   "outputs": [
    {
     "data": {
      "text/plain": [
       "58.440000000000005"
      ]
     },
     "execution_count": 19,
     "metadata": {},
     "output_type": "execute_result"
    }
   ],
   "source": [
    "T_strikers = 77\n",
    "T_injured_strikers = 45\n",
    "pb_injured_striker = round (T_injured_strikers/T_strikers,4)*100\n",
    "pb_injured_striker"
   ]
  },
  {
   "cell_type": "markdown",
   "id": "d13b471d",
   "metadata": {},
   "source": [
    "###### The probability that a randomly chosen player plays in a striker position and has a foot injury is 58.4%"
   ]
  },
  {
   "cell_type": "markdown",
   "id": "f6497c0c",
   "metadata": {},
   "source": [
    "### Q1.4 What is the probability that a randomly chosen injured player is a striker?"
   ]
  },
  {
   "cell_type": "markdown",
   "id": "bf3d8143",
   "metadata": {},
   "source": [
    "#### Answer"
   ]
  },
  {
   "cell_type": "code",
   "execution_count": 2,
   "id": "1b40f53a",
   "metadata": {},
   "outputs": [
    {
     "data": {
      "text/plain": [
       "31.03"
      ]
     },
     "execution_count": 2,
     "metadata": {},
     "output_type": "execute_result"
    }
   ],
   "source": [
    "T_injured_players = 145\n",
    "T_injured_strikers = 45\n",
    "pb_injured_striker = round (T_injured_strikers/T_injured_players,4)*100\n",
    "pb_injured_striker"
   ]
  },
  {
   "cell_type": "markdown",
   "id": "482645f2",
   "metadata": {},
   "source": [
    "##### The probability that a randomly chosen injured player is a striker 31.03%"
   ]
  },
  {
   "cell_type": "markdown",
   "id": "4a0f0d9c",
   "metadata": {},
   "source": [
    "### Q1.5 What is the probability that a randomly chosen injured player is either a forward or an attacking midfielder? "
   ]
  },
  {
   "cell_type": "code",
   "execution_count": 28,
   "id": "2939dd1b",
   "metadata": {},
   "outputs": [
    {
     "data": {
      "text/plain": [
       "48.78"
      ]
     },
     "execution_count": 28,
     "metadata": {},
     "output_type": "execute_result"
    }
   ],
   "source": [
    "Total_forward_injured = 56\n",
    "Total_att_midfielder_injured = 24\n",
    "Total_players_injured = 145\n",
    "\n",
    "#probability of choosing an injured forward\n",
    "Pb_forward_injured = 56/145\n",
    "\n",
    "#probability of choosing an injured attacking midfielder\n",
    "Pb_att_midfielder_injured = 24/145 \n",
    "\n",
    "Pb_fw_md_inj_add = Pb_forward_injured + Pb_att_midfielder_injured\n",
    "Pb_fw_md_inj = Pb_forward_injured * Pb_att_midfielder_injured\n",
    "\n",
    "# probability of choosing either forward or attacking midfielder\n",
    "Pb_fwd_or_mid = round (Pb_fw_md_inj_add - Pb_fw_md_inj,4)*100\n",
    "Pb_fwd_or_mid"
   ]
  },
  {
   "cell_type": "markdown",
   "id": "72a41305",
   "metadata": {},
   "source": [
    "##### The probability that a randomly chosen injured player is either a forward or an attacking midfielder is 48.78%"
   ]
  },
  {
   "cell_type": "markdown",
   "id": "aebf1b5e",
   "metadata": {},
   "source": [
    "\n",
    "\n",
    "# Problem 2\n",
    "\n",
    "## An independent research organization is trying to estimate the probability that an accident at a nuclear power plant will result in radiation leakage. The types of accidents possible at the plant are, fire hazards, mechanical failure, or human error. The research organization also knows that two or more types of accidents cannot occur simultaneously.\n",
    "\n",
    "### According to the studies carried out by the organization, the probability of a radiation leak in case of a fire is 20%, the probability of a radiation leak in case of a mechanical 50%, and the probability of a radiation leak in case of a human error is 10%. The studies also showed the following;\n",
    "\n",
    "#### - The probability of a radiation leak occurring simultaneously with a fire is 0.1%.\n",
    "#### - The probability of a radiation leak occurring simultaneously with a mechanical failure is 0.15%.\n",
    "#### - The probability of a radiation leak occurring simultaneously with a human error is 0.12%."
   ]
  },
  {
   "cell_type": "markdown",
   "id": "ae252236",
   "metadata": {},
   "source": [
    "### Q2.1 What are the probabilities of a fire, a mechanical failure, and a human error respectively?\n",
    "\n",
    "#### Answer"
   ]
  },
  {
   "cell_type": "code",
   "execution_count": 35,
   "id": "527698c6",
   "metadata": {},
   "outputs": [
    {
     "data": {
      "text/plain": [
       "0.7999999999999999"
      ]
     },
     "execution_count": 35,
     "metadata": {},
     "output_type": "execute_result"
    }
   ],
   "source": [
    "#From the above Data\n",
    "#probability of a radiation leak in case of fire\n",
    "Pb_F = 20/100\n",
    "\n",
    "#probability of a radiation leak in case of mechanical failure\n",
    "Pb_M = 50/100\n",
    "\n",
    "#probability of a radiation leak in case of human error\n",
    "Pb_HE = 10/100\n",
    "\n",
    "#total probability of a radiation leak due to fire, mechanical failure and numan error\n",
    "Pb_Total = (Pb_F + Pb_M + Pb_HE)\n",
    "Pb_Total"
   ]
  },
  {
   "cell_type": "code",
   "execution_count": 36,
   "id": "e2f0013a",
   "metadata": {},
   "outputs": [
    {
     "name": "stdout",
     "output_type": "stream",
     "text": [
      "The probability of a fire is 25.0%\n"
     ]
    }
   ],
   "source": [
    "#probability of a fire\n",
    "Pb_Fire = round (Pb_F/Pb_Total, 5) *100\n",
    "print ('The probability of a fire is', str(Pb_Fire) +'%')"
   ]
  },
  {
   "cell_type": "code",
   "execution_count": 37,
   "id": "172552cf",
   "metadata": {},
   "outputs": [
    {
     "name": "stdout",
     "output_type": "stream",
     "text": [
      "The probability of a mechanical failure is 62.5%\n"
     ]
    }
   ],
   "source": [
    "#probability of a Mechanical failure\n",
    "Pb_Mech = round (Pb_M/Pb_Total,4) *100\n",
    "print ('The probability of a mechanical failure is', str(Pb_Mech) +'%')"
   ]
  },
  {
   "cell_type": "code",
   "execution_count": 38,
   "id": "ae1517b3",
   "metadata": {},
   "outputs": [
    {
     "name": "stdout",
     "output_type": "stream",
     "text": [
      "The probability of a human error is 12.5%\n"
     ]
    }
   ],
   "source": [
    "#probability of a human error\n",
    "Pb_Human_Error = round (Pb_HE/Pb_Total,4) *100\n",
    "print ('The probability of a human error is', str(Pb_Human_Error) +'%')"
   ]
  },
  {
   "cell_type": "markdown",
   "id": "1f445142",
   "metadata": {},
   "source": [
    "### Q2.2 What is the probability of a radiation leak?\n",
    "\n",
    "#### Answer"
   ]
  },
  {
   "cell_type": "code",
   "execution_count": 39,
   "id": "9b50c5ad",
   "metadata": {},
   "outputs": [
    {
     "name": "stdout",
     "output_type": "stream",
     "text": [
      "The probability of a radiation leak is 0.37\n"
     ]
    }
   ],
   "source": [
    "# probability of a radiation leak occurring simultaneously with a fire is 0.1%\n",
    "Pb_F_L = 0.1\n",
    "\n",
    "# probability of a radiation leak occurring simultaneously with a mechanical failure is 0.15%\n",
    "Pb_M_L = 0.15\n",
    "\n",
    "# probability of a radiation leak occurring simultaneously with a human error is 0.12%\n",
    "Pb_HE_L = 0.12\n",
    "\n",
    "#probability of a radiation leak\n",
    "Pb_L = round (Pb_F_L + Pb_M_L + Pb_HE_L,4)\n",
    "\n",
    "print ('The probability of a radiation leak is', str(Pb_L))"
   ]
  },
  {
   "cell_type": "markdown",
   "id": "4864a797",
   "metadata": {},
   "source": [
    "\n",
    "### Q2.3 Suppose there has been a radiation leak in the reactor for which the definite cause is not known. What is the probability that it has been caused by:\n",
    "  - A Fire.\n",
    "  - A Mechanical Failure.\n",
    "  - A Human Error.\n",
    "\n",
    "#### Answer"
   ]
  },
  {
   "cell_type": "code",
   "execution_count": 62,
   "id": "41a82739",
   "metadata": {},
   "outputs": [
    {
     "name": "stdout",
     "output_type": "stream",
     "text": [
      "The probability of a radiation leak 27.027%\n"
     ]
    }
   ],
   "source": [
    "#the probability of radiation leak due to fire\n",
    "Pb_Fire_leak = round (Pb_F_L/Pb_L,5)* 100\n",
    "print ('The probability of a radiation leak', str(Pb_Fire_leak) + '%')"
   ]
  },
  {
   "cell_type": "code",
   "execution_count": 64,
   "id": "45a5c6cd",
   "metadata": {},
   "outputs": [
    {
     "name": "stdout",
     "output_type": "stream",
     "text": [
      "The probability of a radiation leak due to mechanical failure  40.54%\n"
     ]
    }
   ],
   "source": [
    "# the probability of radiation leak due to mechanical failure \n",
    "Pb_Mech_leak = round (Pb_M_L/Pb_L,4)* 100\n",
    "print ('The probability of a radiation leak due to mechanical failure ', str(Pb_Mech_leak) + '%')"
   ]
  },
  {
   "cell_type": "code",
   "execution_count": 65,
   "id": "26f43f63",
   "metadata": {},
   "outputs": [
    {
     "name": "stdout",
     "output_type": "stream",
     "text": [
      "The probability of a radiation leak due to humar error 32.43%\n"
     ]
    }
   ],
   "source": [
    "#the probability of radiation leak due to humar error\n",
    "Pb_Human__error_leak = round (Pb_HE_L/Pb_L,4) * 100\n",
    "print ('The probability of a radiation leak due to humar error', str(Pb_Human__error_leak) + '%')"
   ]
  },
  {
   "cell_type": "markdown",
   "id": "8bdfc276",
   "metadata": {},
   "source": [
    "\n",
    "# Problem 3:\n",
    "\n",
    "## The breaking strength of gunny bags used for packaging cement is normally distributed with a mean of 5 kg per sq. centimeter and a standard deviation of 1.5 kg per sq. centimeter. The quality team of the cement company wants to know the following about the packaging material to better understand wastage or pilferage within the supply chain; Answer the questions below based on the given information; (Provide an appropriate visual representation of your answers, without which marks will be deducted)"
   ]
  },
  {
   "cell_type": "code",
   "execution_count": 3,
   "id": "473e8e4a",
   "metadata": {},
   "outputs": [],
   "source": [
    "#importing important packages\n",
    "\n",
    "import pandas as pd \n",
    "import numpy as np  \n",
    "import matplotlib.pyplot as plt  \n",
    "import seaborn as sns  \n",
    "\n",
    "%matplotlib inline\n",
    "\n",
    "import scipy.stats as stats \n",
    "\n",
    "\n",
    "# importing normal distribution functions\n",
    "from scipy.stats import norm "
   ]
  },
  {
   "cell_type": "code",
   "execution_count": 3,
   "id": "e4238744",
   "metadata": {},
   "outputs": [],
   "source": [
    "#from the above question we have the following\n",
    "mu = 5\n",
    "sigma = 1.5"
   ]
  },
  {
   "cell_type": "code",
   "execution_count": 4,
   "id": "c25a751f",
   "metadata": {},
   "outputs": [
    {
     "data": {
      "image/png": "[encoded data removed]",
      "text/plain": [
       "<Figure size 432x288 with 1 Axes>"
      ]
     },
     "metadata": {
      "needs_background": "light"
     },
     "output_type": "display_data"
    }
   ],
   "source": [
    "from scipy.stats import norm\n",
    "\n",
    "x = np.linspace(0,10,50)\n",
    "\n",
    "plt.plot(x, norm.pdf(x, 5, 1.5))\n",
    "plt.axvline(x=5, c=\"r\", linestyle ='--')\n",
    "plt.xlabel(\"Breaking Strength\") # the x-axis label\n",
    "plt.ylabel(\"Probability\") # the y-axis label\n",
    "plt.title(\"Normal Distribution of breaking strenght of the bags\") # the title\n",
    "#plotting the graph for normal distribution\n",
    "plt.show()"
   ]
  },
  {
   "cell_type": "markdown",
   "id": "b48d267a",
   "metadata": {},
   "source": [
    "### 3.1 What proportion of the gunny bags have a breaking strength less than 3.17 kg per sq cm?\n"
   ]
  },
  {
   "cell_type": "markdown",
   "id": "676c18ee",
   "metadata": {},
   "source": [
    "#### Answer"
   ]
  },
  {
   "cell_type": "code",
   "execution_count": 9,
   "id": "e588fa24",
   "metadata": {},
   "outputs": [
    {
     "name": "stdout",
     "output_type": "stream",
     "text": [
      "The proportion of the gunny bags have a breaking strength less than 3.17 kg per sq cm is 0.1112\n"
     ]
    }
   ],
   "source": [
    "#the cumulative probability\n",
    "pb_less_than_317 = round (norm.cdf(3.17, mu, sigma),4)\n",
    "print(\"The proportion of the gunny bags have a breaking strength less than 3.17 kg per sq cm is\",str(pb_less_than_317))"
   ]
  },
  {
   "cell_type": "code",
   "execution_count": 105,
   "id": "f08bea31",
   "metadata": {},
   "outputs": [
    {
     "data": {
      "image/png": "[encoded data removed]",
      "text/plain": [
       "<Figure size 432x288 with 1 Axes>"
      ]
     },
     "metadata": {
      "needs_background": "light"
     },
     "output_type": "display_data"
    }
   ],
   "source": [
    "from scipy.stats import norm\n",
    "\n",
    "x = np.linspace(0,10,50)\n",
    "\n",
    "plt.plot(x, norm.pdf(x, 5, 1.5))\n",
    "plt.axvline(x=3.17, c=\"g\") \n",
    "plt.axvline(x=5, c=\"b\", linestyle ='--') #population mean\n",
    "x = np.linspace( 3.17, 0)\n",
    "plt.fill_between(x, norm.pdf(x, mu, sigma), color=\"g\")\n",
    "plt.xlabel(\"Breaking Strength\") # set the x-axis label\n",
    "plt.ylabel(\"Probability\") # set the y-axis label\n",
    "plt.title(\"Normal Distribution of breaking strength of the bags\") # set the title\n",
    "\n",
    "plt.show()"
   ]
  },
  {
   "cell_type": "markdown",
   "id": "c83849e4",
   "metadata": {},
   "source": [
    "##### The proportion of the gunny bags have a breaking strength less than 3.17 kg per sq cm is 0.1112"
   ]
  },
  {
   "cell_type": "markdown",
   "id": "73a99f2e",
   "metadata": {},
   "source": [
    "### 3.2 What proportion of the gunny bags have a breaking strength at least 3.6 kg per sq cm.?"
   ]
  },
  {
   "cell_type": "markdown",
   "id": "c8488c8e",
   "metadata": {},
   "source": [
    "#### Answer"
   ]
  },
  {
   "cell_type": "code",
   "execution_count": 70,
   "id": "40b56a47",
   "metadata": {},
   "outputs": [
    {
     "name": "stdout",
     "output_type": "stream",
     "text": [
      "The proportion of the gunny bags have a breaking strength of at 3.6 kg per sq cm is 0.1753\n"
     ]
    }
   ],
   "source": [
    "pb_atleast_36 = round (norm.cdf(3.6, mu, sigma),4)\n",
    "print(\"The proportion of the gunny bags have a breaking strength of at 3.6 kg per sq cm is\",str(pb_atleast_36))"
   ]
  },
  {
   "cell_type": "code",
   "execution_count": 68,
   "id": "00feebe8",
   "metadata": {},
   "outputs": [
    {
     "data": {
      "image/png": "[encoded data removed]",
      "text/plain": [
       "<Figure size 432x288 with 1 Axes>"
      ]
     },
     "metadata": {
      "needs_background": "light"
     },
     "output_type": "display_data"
    }
   ],
   "source": [
    "from scipy.stats import norm\n",
    "\n",
    "x = np.linspace(0,10,50)\n",
    "\n",
    "plt.plot(x, norm.pdf(x, 5, 1.5))\n",
    "plt.axvline(x=3.6, c=\"r\") \n",
    "plt.axvline(x=5, c=\"b\", linestyle ='--') #population mean\n",
    "x = np.linspace( 3.6, 0)\n",
    "plt.fill_between(x, norm.pdf(x, mu, sigma), color=\"r\")\n",
    "plt.xlabel(\"Breaking Strength\") # set the x-axis label\n",
    "plt.ylabel(\"Probability\") # set the y-axis label\n",
    "plt.title(\"Normal Distribution of breaking strenght of the bags\") # set the title\n",
    "plt.show()"
   ]
  },
  {
   "cell_type": "markdown",
   "id": "eeafaddd",
   "metadata": {},
   "source": [
    "### Q3.3 What proportion of the gunny bags have a breaking strength between 5 and 5.5 kg per sq cm.?"
   ]
  },
  {
   "cell_type": "markdown",
   "id": "126c4d31",
   "metadata": {},
   "source": [
    "#### Answer"
   ]
  },
  {
   "cell_type": "code",
   "execution_count": 71,
   "id": "651fe136",
   "metadata": {},
   "outputs": [
    {
     "name": "stdout",
     "output_type": "stream",
     "text": [
      "The proportion of the gunny bags have a breaking strength between 5 and 5.5 kg per sq cm is 1.1305586598182362\n"
     ]
    }
   ],
   "source": [
    "x1 = 5\n",
    "z1 = (x1-mu)/sigma\n",
    "pb1=stats.norm.cdf(z1)\n",
    "x2 = 5.5\n",
    "z2 = (x2-mu)/sigma\n",
    "pb2=stats.norm.cdf(z2)\n",
    "\n",
    "Pb = pb1 + pb2\n",
    "print(\"The proportion of the gunny bags have a breaking strength between 5 and 5.5 kg per sq cm is\",str(Pb))"
   ]
  },
  {
   "cell_type": "code",
   "execution_count": 133,
   "id": "0257e5af",
   "metadata": {},
   "outputs": [
    {
     "data": {
      "image/png": "[encoded data removed]",
      "text/plain": [
       "<Figure size 432x288 with 1 Axes>"
      ]
     },
     "metadata": {
      "needs_background": "light"
     },
     "output_type": "display_data"
    }
   ],
   "source": [
    "from scipy.stats import norm\n",
    "\n",
    "x = np.linspace(0,10,50)\n",
    "\n",
    "plt.plot(x, norm.pdf(x, 5, 1.5))\n",
    "plt.axvline(x=5.5, c=\"r\") \n",
    "plt.axvline(x=5, c=\"b\", linestyle ='--') #population mean\n",
    "x = np.linspace( 5.5, 5)\n",
    "plt.fill_between(x, norm.pdf(x, mu, sigma), color=\"y\")\n",
    "plt.xlabel(\"Breaking Strength\") # set the x-axis label\n",
    "plt.ylabel(\"Probability\") # set the y-axis label\n",
    "plt.title(\"Normal Distribution of breaking strength of the bags\") # set the title\n",
    "plt.show()"
   ]
  },
  {
   "cell_type": "markdown",
   "id": "7d616c16",
   "metadata": {},
   "source": [
    "##### The proportion of the gunny bags have a breaking strength between 5 and 5.5 kg per sq cm is 1.131"
   ]
  },
  {
   "cell_type": "markdown",
   "id": "cb0a8fdb",
   "metadata": {},
   "source": [
    "### Q3.4 What proportion of the gunny bags have a breaking strength NOT between 3 and 7.5 kg per sq cm.?"
   ]
  },
  {
   "cell_type": "markdown",
   "id": "67fab735",
   "metadata": {},
   "source": [
    "#### Answer"
   ]
  },
  {
   "cell_type": "code",
   "execution_count": 135,
   "id": "8f0858e5",
   "metadata": {},
   "outputs": [
    {
     "name": "stdout",
     "output_type": "stream",
     "text": [
      "The proportion of the gunny bags have a breaking strength not between 3 and 7.5 kg per sq cm is 0.139\n"
     ]
    }
   ],
   "source": [
    "Prb = round (stats.norm.cdf(3,loc=mu,scale=sigma) + (1- stats.norm.cdf(7.5,loc=mu,scale=sigma)),3)\n",
    "print(\"The proportion of the gunny bags have a breaking strength not between 3 and 7.5 kg per sq cm is\",str(Prb))"
   ]
  },
  {
   "cell_type": "code",
   "execution_count": 291,
   "id": "7d6d189f",
   "metadata": {},
   "outputs": [
    {
     "data": {
      "image/png": "[encoded data removed]",
      "text/plain": [
       "<Figure size 432x288 with 1 Axes>"
      ]
     },
     "metadata": {
      "needs_background": "light"
     },
     "output_type": "display_data"
    }
   ],
   "source": [
    "from scipy.stats import norm\n",
    "\n",
    "x = np.linspace(0,10,50)\n",
    "\n",
    "plt.plot(x, norm.pdf(x, 5, 1.5))\n",
    "plt.axvline(x=7.5, c=\"r\")\n",
    "plt.axvline(x=3, c=\"r\")\n",
    "plt.axvline(x=5, c=\"y\", linestyle ='--') #population mean\n",
    "x = np.linspace( 7.5, 3)\n",
    "plt.xlabel(\"Breaking Strength\") # set the x-axis label\n",
    "plt.ylabel(\"Probability\") # set the y-axis label\n",
    "plt.title(\"Normal Distribution of breaking strenght of the bags\") #title\n",
    "plt.annotate('      Below \\n  3 kg/sq cm', (0, 0.155))\n",
    "plt.annotate('      Above \\n  7.5 kg/sq cm', (8, 0.155))\n",
    "plt.annotate('   Between \\n 3 kg/sq cm \\n         & \\n 7.5 kg/sq cm', ( 4, 0.10))\n",
    "plt.show()"
   ]
  },
  {
   "cell_type": "code",
   "execution_count": null,
   "id": "9c58bd2a",
   "metadata": {},
   "outputs": [],
   "source": []
  },
  {
   "cell_type": "markdown",
   "id": "89121d56",
   "metadata": {},
   "source": [
    "# Problem 4:\n",
    "\n",
    " \n",
    "\n",
    "## Grades of the final examination in a training course are found to be normally distributed, with a mean of 77 and a standard deviation of 8.5. Based on the given information answer the questions below.\n"
   ]
  },
  {
   "cell_type": "markdown",
   "id": "d9345cc3",
   "metadata": {},
   "source": [
    "### 4.1 What is the probability that a randomly chosen student gets a grade below 85 on this exam?"
   ]
  },
  {
   "cell_type": "markdown",
   "id": "12c4df51",
   "metadata": {},
   "source": [
    "#### Answer"
   ]
  },
  {
   "cell_type": "code",
   "execution_count": 14,
   "id": "41b10d14",
   "metadata": {},
   "outputs": [],
   "source": [
    "#from the above data \n",
    "mu1 = 77 # population mean\n",
    "sigma1 = 8.5 #standard deviation"
   ]
  },
  {
   "cell_type": "code",
   "execution_count": 71,
   "id": "406646a0",
   "metadata": {},
   "outputs": [
    {
     "data": {
      "text/plain": [
       "82.669"
      ]
     },
     "execution_count": 71,
     "metadata": {},
     "output_type": "execute_result"
    }
   ],
   "source": [
    "Prob_below_percentage = round (stats.norm.cdf(85,loc = mu1, scale = sigma1),5) * 100\n",
    "\n",
    "Prob_below_percentage"
   ]
  },
  {
   "cell_type": "code",
   "execution_count": 55,
   "id": "f963c71d",
   "metadata": {},
   "outputs": [
    {
     "data": {
      "image/png": "[encoded data removed]",
      "text/plain": [
       "<Figure size 432x288 with 1 Axes>"
      ]
     },
     "metadata": {
      "needs_background": "light"
     },
     "output_type": "display_data"
    }
   ],
   "source": [
    "from scipy.stats import norm\n",
    "\n",
    "x = np.linspace(30,120,50)\n",
    "\n",
    "plt.plot(x, norm.pdf(x, 77, 8.5))\n",
    "plt.axvline(x=85, c=\"r\") \n",
    "plt.axvline(x=77, c=\"b\", linestyle ='--') #population mean\n",
    "x = np.linspace( 85, 30)\n",
    "plt.fill_between(x, norm.pdf(x, mu1, sigma1), color=\"r\")\n",
    "plt.xlabel(\"Student's Scores\") # set the x-axis label\n",
    "plt.ylabel(\"Probability\") # set the y-axis label\n",
    "plt.title(\"Distribution Plot of Student's Scores\") # set the title\n",
    "plt.show()"
   ]
  },
  {
   "cell_type": "markdown",
   "id": "581dbdb1",
   "metadata": {},
   "source": [
    "###### The the probability that a randomly chosen student gets a grade below 85 on this exam is 82.67 %"
   ]
  },
  {
   "cell_type": "markdown",
   "id": "5e9f71a3",
   "metadata": {},
   "source": [
    "### 4.2 What is the probability that a randomly selected student scores between 65 and 87?"
   ]
  },
  {
   "cell_type": "markdown",
   "id": "fab5a27e",
   "metadata": {},
   "source": [
    "#### Answer"
   ]
  },
  {
   "cell_type": "code",
   "execution_count": 72,
   "id": "be19b871",
   "metadata": {},
   "outputs": [
    {
     "data": {
      "text/plain": [
       "4.07"
      ]
     },
     "execution_count": 72,
     "metadata": {},
     "output_type": "execute_result"
    }
   ],
   "source": [
    "Prob_between_percentage = round ((1-stats.norm.cdf(87,loc=77,scale =8.5)) - (stats.norm.cdf(65,loc=77, scale=8.5)),4) * 100\n",
    "Prob_between_percentage"
   ]
  },
  {
   "cell_type": "code",
   "execution_count": 56,
   "id": "7f0b8c0b",
   "metadata": {},
   "outputs": [
    {
     "data": {
      "image/png": "[encoded data removed]",
      "text/plain": [
       "<Figure size 432x288 with 1 Axes>"
      ]
     },
     "metadata": {
      "needs_background": "light"
     },
     "output_type": "display_data"
    }
   ],
   "source": [
    "from scipy.stats import norm\n",
    "\n",
    "x = np.linspace(30,120,50)\n",
    "\n",
    "plt.plot(x, norm.pdf(x, 77, 8.5))\n",
    "plt.axvline(x=87, c=\"r\")\n",
    "plt.axvline(x=65, c=\"r\")\n",
    "plt.axvline(x=77, c=\"b\", linestyle ='--') #population mean\n",
    "x = np.linspace( 87, 65)\n",
    "plt.fill_between(x, norm.pdf(x, mu1, sigma1), color=\"pink\")\n",
    "plt.xlabel(\"Student's Scores\") # set the x-axis label\n",
    "plt.ylabel(\"Probability\") # set the y-axis label\n",
    "plt.title(\"Distribution Plot of Student's Scores\") #title\n",
    "\n",
    "plt.show()"
   ]
  },
  {
   "cell_type": "markdown",
   "id": "6d590ed0",
   "metadata": {},
   "source": [
    "##### The probability that a randomly selected student scores between 65 and 87 is 4.07%"
   ]
  },
  {
   "cell_type": "markdown",
   "id": "57eb6069",
   "metadata": {},
   "source": [
    "### 4.3 What should be the passing cut-off so that 75% of the students clear the exam?"
   ]
  },
  {
   "cell_type": "markdown",
   "id": "9d37525d",
   "metadata": {},
   "source": [
    "#### Answer"
   ]
  },
  {
   "cell_type": "code",
   "execution_count": 57,
   "id": "15f4eac9",
   "metadata": {},
   "outputs": [
    {
     "data": {
      "text/plain": [
       "71"
      ]
     },
     "execution_count": 57,
     "metadata": {},
     "output_type": "execute_result"
    }
   ],
   "source": [
    "# using ppf() function\n",
    "# norm.ppf() calculates the percentile point\n",
    "Cutoff_75th_percentile = round (norm.ppf(0.25, mu1, sigma1))\n",
    "Cutoff_75th_percentile"
   ]
  },
  {
   "cell_type": "code",
   "execution_count": 61,
   "id": "55c7ad24",
   "metadata": {},
   "outputs": [
    {
     "data": {
      "image/png": "[encoded data removed]",
      "text/plain": [
       "<Figure size 432x288 with 1 Axes>"
      ]
     },
     "metadata": {
      "needs_background": "light"
     },
     "output_type": "display_data"
    }
   ],
   "source": [
    "x = np.linspace(30,120,50)\n",
    "plt.plot(x, norm.pdf(x, 77, 8.5))\n",
    "plt.axvline(x=77, c=\"b\", linestyle ='--') \n",
    "plt.axvline(x=Cutoff_75th_percentile, c=\"r\")\n",
    "plt.xlabel(\"Student's Scores\")\n",
    "plt.ylabel(\"Probability\")\n",
    "plt.title(\"Cut-off score for 75% Students to Pass\")\n",
    "plt.show()"
   ]
  },
  {
   "cell_type": "markdown",
   "id": "8d37ebc9",
   "metadata": {},
   "source": [
    "##### The passing cut-off so that 75% of the students clear the exam is 71"
   ]
  },
  {
   "cell_type": "code",
   "execution_count": null,
   "id": "11470e7b",
   "metadata": {},
   "outputs": [],
   "source": []
  },
  {
   "cell_type": "markdown",
   "id": "fc948a84",
   "metadata": {},
   "source": [
    "# Problem 5\n",
    "\n",
    "## Zingaro stone printing is a company that specializes in printing images or patterns on polished or unpolished stones. However, for the optimum level of printing of the image the stone surface has to have a Brinell's hardness index of at least 150. Recently, Zingaro has received a batch of polished and unpolished stones from its clients. Use the data provided to answer the following (assuming a 5% significance level);"
   ]
  },
  {
   "cell_type": "code",
   "execution_count": 119,
   "id": "b73fa2a2",
   "metadata": {},
   "outputs": [],
   "source": [
    "#importing packacges\n",
    "\n",
    "import numpy as np\n",
    "import pandas as pd\n",
    "from scipy.stats import f\n",
    "import matplotlib.pyplot as plt \n",
    "%matplotlib inline\n",
    "import seaborn as sns\n",
    "import scipy.stats as stats\n",
    "from scipy.stats import ttest_1samp, ttest_ind\n",
    "from statsmodels.stats.power import ttest_power"
   ]
  },
  {
   "cell_type": "code",
   "execution_count": 125,
   "id": "1a80ce5f",
   "metadata": {
    "scrolled": true
   },
   "outputs": [
    {
     "data": {
      "text/html": [
       "<div>\n",
       "<style scoped>\n",
       "    .dataframe tbody tr th:only-of-type {\n",
       "        vertical-align: middle;\n",
       "    }\n",
       "\n",
       "    .dataframe tbody tr th {\n",
       "        vertical-align: top;\n",
       "    }\n",
       "\n",
       "    .dataframe thead th {\n",
       "        text-align: right;\n",
       "    }\n",
       "</style>\n",
       "<table border=\"1\" class=\"dataframe\">\n",
       "  <thead>\n",
       "    <tr style=\"text-align: right;\">\n",
       "      <th></th>\n",
       "      <th>Unpolished</th>\n",
       "      <th>Treated and Polished</th>\n",
       "    </tr>\n",
       "  </thead>\n",
       "  <tbody>\n",
       "    <tr>\n",
       "      <th>0</th>\n",
       "      <td>164.481713</td>\n",
       "      <td>133.209393</td>\n",
       "    </tr>\n",
       "    <tr>\n",
       "      <th>1</th>\n",
       "      <td>154.307045</td>\n",
       "      <td>138.482771</td>\n",
       "    </tr>\n",
       "    <tr>\n",
       "      <th>2</th>\n",
       "      <td>129.861048</td>\n",
       "      <td>159.665201</td>\n",
       "    </tr>\n",
       "    <tr>\n",
       "      <th>3</th>\n",
       "      <td>159.096184</td>\n",
       "      <td>145.663528</td>\n",
       "    </tr>\n",
       "    <tr>\n",
       "      <th>4</th>\n",
       "      <td>135.256748</td>\n",
       "      <td>136.789227</td>\n",
       "    </tr>\n",
       "  </tbody>\n",
       "</table>\n",
       "</div>"
      ],
      "text/plain": [
       "   Unpolished  Treated and Polished\n",
       "0  164.481713            133.209393\n",
       "1  154.307045            138.482771\n",
       "2  129.861048            159.665201\n",
       "3  159.096184            145.663528\n",
       "4  135.256748            136.789227"
      ]
     },
     "execution_count": 125,
     "metadata": {},
     "output_type": "execute_result"
    }
   ],
   "source": [
    "#loading data set\n",
    "zingaro= pd.read_csv(\"Zingaro_Company.csv\")\n",
    "zingaro.head()  #checking dataset"
   ]
  },
  {
   "cell_type": "code",
   "execution_count": 126,
   "id": "fad7c3ff",
   "metadata": {},
   "outputs": [
    {
     "name": "stdout",
     "output_type": "stream",
     "text": [
      "<class 'pandas.core.frame.DataFrame'>\n",
      "RangeIndex: 75 entries, 0 to 74\n",
      "Data columns (total 2 columns):\n",
      " #   Column                Non-Null Count  Dtype  \n",
      "---  ------                --------------  -----  \n",
      " 0   Unpolished            75 non-null     float64\n",
      " 1   Treated and Polished  75 non-null     float64\n",
      "dtypes: float64(2)\n",
      "memory usage: 1.3 KB\n"
     ]
    }
   ],
   "source": [
    "zingaro.info()"
   ]
  },
  {
   "cell_type": "markdown",
   "id": "b578008c",
   "metadata": {},
   "source": [
    "- All float type data"
   ]
  },
  {
   "cell_type": "code",
   "execution_count": 95,
   "id": "2e9ec624",
   "metadata": {},
   "outputs": [
    {
     "data": {
      "text/plain": [
       "(75, 2)"
      ]
     },
     "execution_count": 95,
     "metadata": {},
     "output_type": "execute_result"
    }
   ],
   "source": [
    "zingaro.shape"
   ]
  },
  {
   "cell_type": "markdown",
   "id": "e8e6fc9c",
   "metadata": {},
   "source": [
    "- 75 rows and 2 columns"
   ]
  },
  {
   "cell_type": "code",
   "execution_count": 96,
   "id": "98965fd2",
   "metadata": {},
   "outputs": [
    {
     "data": {
      "text/html": [
       "<div>\n",
       "<style scoped>\n",
       "    .dataframe tbody tr th:only-of-type {\n",
       "        vertical-align: middle;\n",
       "    }\n",
       "\n",
       "    .dataframe tbody tr th {\n",
       "        vertical-align: top;\n",
       "    }\n",
       "\n",
       "    .dataframe thead th {\n",
       "        text-align: right;\n",
       "    }\n",
       "</style>\n",
       "<table border=\"1\" class=\"dataframe\">\n",
       "  <thead>\n",
       "    <tr style=\"text-align: right;\">\n",
       "      <th></th>\n",
       "      <th>count</th>\n",
       "      <th>mean</th>\n",
       "      <th>std</th>\n",
       "      <th>min</th>\n",
       "      <th>25%</th>\n",
       "      <th>50%</th>\n",
       "      <th>75%</th>\n",
       "      <th>max</th>\n",
       "    </tr>\n",
       "  </thead>\n",
       "  <tbody>\n",
       "    <tr>\n",
       "      <th>Unpolished</th>\n",
       "      <td>75.0</td>\n",
       "      <td>134.110527</td>\n",
       "      <td>33.041804</td>\n",
       "      <td>48.406838</td>\n",
       "      <td>115.329753</td>\n",
       "      <td>135.597121</td>\n",
       "      <td>158.215098</td>\n",
       "      <td>200.161313</td>\n",
       "    </tr>\n",
       "    <tr>\n",
       "      <th>Treated and Polished</th>\n",
       "      <td>75.0</td>\n",
       "      <td>147.788117</td>\n",
       "      <td>15.587355</td>\n",
       "      <td>107.524167</td>\n",
       "      <td>138.268300</td>\n",
       "      <td>145.721322</td>\n",
       "      <td>157.373318</td>\n",
       "      <td>192.272856</td>\n",
       "    </tr>\n",
       "  </tbody>\n",
       "</table>\n",
       "</div>"
      ],
      "text/plain": [
       "                      count        mean        std         min         25%  \\\n",
       "Unpolished             75.0  134.110527  33.041804   48.406838  115.329753   \n",
       "Treated and Polished   75.0  147.788117  15.587355  107.524167  138.268300   \n",
       "\n",
       "                             50%         75%         max  \n",
       "Unpolished            135.597121  158.215098  200.161313  \n",
       "Treated and Polished  145.721322  157.373318  192.272856  "
      ]
     },
     "execution_count": 96,
     "metadata": {},
     "output_type": "execute_result"
    }
   ],
   "source": [
    "zingaro.describe().T"
   ]
  },
  {
   "cell_type": "code",
   "execution_count": 97,
   "id": "70e35953",
   "metadata": {},
   "outputs": [
    {
     "name": "stdout",
     "output_type": "stream",
     "text": [
      "Number of duplicate rows = 0\n"
     ]
    },
    {
     "data": {
      "text/html": [
       "<div>\n",
       "<style scoped>\n",
       "    .dataframe tbody tr th:only-of-type {\n",
       "        vertical-align: middle;\n",
       "    }\n",
       "\n",
       "    .dataframe tbody tr th {\n",
       "        vertical-align: top;\n",
       "    }\n",
       "\n",
       "    .dataframe thead th {\n",
       "        text-align: right;\n",
       "    }\n",
       "</style>\n",
       "<table border=\"1\" class=\"dataframe\">\n",
       "  <thead>\n",
       "    <tr style=\"text-align: right;\">\n",
       "      <th></th>\n",
       "      <th>Unpolished</th>\n",
       "      <th>Treated and Polished</th>\n",
       "    </tr>\n",
       "  </thead>\n",
       "  <tbody>\n",
       "  </tbody>\n",
       "</table>\n",
       "</div>"
      ],
      "text/plain": [
       "Empty DataFrame\n",
       "Columns: [Unpolished, Treated and Polished]\n",
       "Index: []"
      ]
     },
     "execution_count": 97,
     "metadata": {},
     "output_type": "execute_result"
    }
   ],
   "source": [
    "dups = zingaro.duplicated()\n",
    "print('Number of duplicate rows = %d' % (dups.sum()))\n",
    "zingaro[dups]"
   ]
  },
  {
   "cell_type": "markdown",
   "id": "c641bdef",
   "metadata": {},
   "source": [
    "- No duplicate present in the data set"
   ]
  },
  {
   "cell_type": "code",
   "execution_count": 98,
   "id": "cc6ee02f",
   "metadata": {},
   "outputs": [
    {
     "data": {
      "text/plain": [
       "Unpolished              0\n",
       "Treated and Polished    0\n",
       "dtype: int64"
      ]
     },
     "execution_count": 98,
     "metadata": {},
     "output_type": "execute_result"
    }
   ],
   "source": [
    "# Check for missing value in any colum\n",
    "zingaro.isnull().sum()"
   ]
  },
  {
   "cell_type": "markdown",
   "id": "a401acca",
   "metadata": {},
   "source": [
    "- No missing values"
   ]
  },
  {
   "cell_type": "markdown",
   "id": "73f826f5",
   "metadata": {},
   "source": [
    "### 5.1 Earlier experience of Zingaro with this particular client is favorable as the stone surface was found to be of adequate hardness. However, Zingaro has reason to believe now that the unpolished stones may not be suitable for printing. Do you think Zingaro is justified in thinking so?"
   ]
  },
  {
   "cell_type": "markdown",
   "id": "0bbb66ee",
   "metadata": {},
   "source": [
    "#### Answer"
   ]
  },
  {
   "cell_type": "markdown",
   "id": "e62e3547",
   "metadata": {},
   "source": [
    "- The level of significance (Alpha) = 0.05\n",
    "- Checking the Unpolished stone is not suitable for printing or not, with two sample T-test."
   ]
  },
  {
   "cell_type": "markdown",
   "id": "b12c1d2f",
   "metadata": {},
   "source": [
    "For T-Test:\n",
    "\n",
    "- Null hypothesis states that the Unpolished stone is suitable for printing.\n",
    "- Alternative hypothesis states that the Unpolished stone is not suitable for printing.\n",
    "\n",
    "* $H_0$: $\\mu_{Unpolished}$ - $\\mu_{Polished}$ =      0 i.e        $\\mu_{Unpolished}$ = $\\mu_{Polished}$\n",
    "* $H_A$: $\\mu_{Unpolished}$ - $\\mu_{Polished}$ $\\neq$  0 i.e      $\\mu_{Unpolished}$ $\\neq$ $\\mu_{Polished}$"
   ]
  },
  {
   "cell_type": "code",
   "execution_count": 101,
   "id": "78e37c9b",
   "metadata": {},
   "outputs": [
    {
     "name": "stdout",
     "output_type": "stream",
     "text": [
      "-3.5589113215869057 0.0006545976110249849\n"
     ]
    }
   ],
   "source": [
    "t, p_value  = stats.ttest_rel(zingaro['Unpolished'],zingaro['Treated and Polished'])\n",
    "print(t, p_value)"
   ]
  },
  {
   "cell_type": "code",
   "execution_count": 127,
   "id": "b91c939a",
   "metadata": {},
   "outputs": [
    {
     "name": "stdout",
     "output_type": "stream",
     "text": [
      "tstat -3.242232050141406\n",
      "P Value 0.001465515019462831\n"
     ]
    }
   ],
   "source": [
    "t_statistic, p_value  = ttest_ind(zingaro['Unpolished'],zingaro['Treated and Polished'])\n",
    "print('tstat',t_statistic)    \n",
    "print('P Value',p_value) "
   ]
  },
  {
   "cell_type": "code",
   "execution_count": 100,
   "id": "9d6db1b0",
   "metadata": {},
   "outputs": [
    {
     "data": {
      "text/plain": [
       "0.00032729880551249244"
      ]
     },
     "execution_count": 100,
     "metadata": {},
     "output_type": "execute_result"
    }
   ],
   "source": [
    "(p_value/2)"
   ]
  },
  {
   "cell_type": "code",
   "execution_count": 91,
   "id": "7617af2f",
   "metadata": {},
   "outputs": [
    {
     "name": "stdout",
     "output_type": "stream",
     "text": [
      "T statistic is: -3.5589113215869057 \n",
      "Corresponding p_value is : 0.00032729880551249244\n"
     ]
    }
   ],
   "source": [
    "print ('T statistic is:',t,'\\n''Corresponding p_value is :',(p_value/2))"
   ]
  },
  {
   "cell_type": "code",
   "execution_count": 102,
   "id": "87b8450e",
   "metadata": {},
   "outputs": [
    {
     "name": "stdout",
     "output_type": "stream",
     "text": [
      "The two-sample t-test p-value= 0.0006545976110249849\n",
      "We have to reject the null hypothesis in favour of alternative hypothesis.\n",
      "Unpolished stone is not suitable for printing.\n"
     ]
    }
   ],
   "source": [
    "# p_value < 0.05 => alternative hypothesis:\n",
    "# they don't have the same mean at the 5% significance level\n",
    "print (\"The two-sample t-test p-value=\", p_value)\n",
    "\n",
    "alpha = 0.05\n",
    "\n",
    "if p_value < alpha:\n",
    "    print('We have to reject the null hypothesis in favour of alternative hypothesis.')\n",
    "    print('Unpolished stone is not suitable for printing.')\n",
    "else:\n",
    "    print('We cannot to reject the null hypothesis in favour of alternative hypothesis.')\n",
    "    print('Unpolished stone is suitable for printing.')"
   ]
  },
  {
   "cell_type": "markdown",
   "id": "c1c62eca",
   "metadata": {},
   "source": [
    "- Since, the p-value is 0.00065 which is way less than the level of significance (alpha) 0.05. Hence we can reject the null hypothesis that Unpolished stone is suitable for printing. \n",
    "- Therefore, Staistically speaking, the Unpolished stones are not suitable for printing."
   ]
  },
  {
   "cell_type": "code",
   "execution_count": null,
   "id": "b10d57bc",
   "metadata": {},
   "outputs": [],
   "source": []
  },
  {
   "cell_type": "markdown",
   "id": "6ecf2ca0",
   "metadata": {},
   "source": [
    "### 5.2 Is the mean hardness of the polished and unpolished stones the same?"
   ]
  },
  {
   "cell_type": "markdown",
   "id": "8ad98c4c",
   "metadata": {},
   "source": [
    "#### Answer"
   ]
  },
  {
   "cell_type": "code",
   "execution_count": 182,
   "id": "56058ef7",
   "metadata": {},
   "outputs": [
    {
     "data": {
      "image/png": "[encoded data removed]",
      "text/plain": [
       "<Figure size 720x360 with 2 Axes>"
      ]
     },
     "metadata": {
      "needs_background": "light"
     },
     "output_type": "display_data"
    }
   ],
   "source": [
    "fig,axs = plt.subplots(nrows=1,ncols=2, figsize=(10,5))\n",
    "zingaro.hist(column= 'Unpolished', ax=axs[0])\n",
    "zingaro.hist(column= 'Treated and Polished', ax=axs[1])\n",
    "plt.show()"
   ]
  },
  {
   "cell_type": "code",
   "execution_count": 187,
   "id": "e89efab5",
   "metadata": {},
   "outputs": [
    {
     "data": {
      "image/png": "[encoded data removed]",
      "text/plain": [
       "<Figure size 720x360 with 2 Axes>"
      ]
     },
     "metadata": {
      "needs_background": "light"
     },
     "output_type": "display_data"
    }
   ],
   "source": [
    "fig,axs = plt.subplots(nrows=1,ncols=2, figsize=(10,5))\n",
    "sns.boxplot(x='Unpolished',data=zingaro, color = 'pink', ax=axs[0]);\n",
    "sns.boxplot(x='Treated and Polished',data=zingaro, color = 'yellow', ax=axs[1]);"
   ]
  },
  {
   "cell_type": "code",
   "execution_count": 79,
   "id": "b0b30cae",
   "metadata": {},
   "outputs": [
    {
     "name": "stdout",
     "output_type": "stream",
     "text": [
      "The estimated mean for Unpolished is 134.11\n",
      "The estimated mean is for Treated and Polished 147.79\n"
     ]
    }
   ],
   "source": [
    "mu2 = zingaro['Unpolished'].mean()\n",
    "mu3 = zingaro['Treated and Polished'].mean()\n",
    "print(\"The estimated mean for Unpolished is\", round(mu2, 2))\n",
    "print(\"The estimated mean is for Treated and Polished\", round(mu3, 2))"
   ]
  },
  {
   "cell_type": "markdown",
   "id": "0697ab95",
   "metadata": {},
   "source": [
    "### From the graph and staistically the mean values of the hardness of both the stones are not equal."
   ]
  },
  {
   "cell_type": "markdown",
   "id": "0e08d095",
   "metadata": {},
   "source": []
  },
  {
   "cell_type": "markdown",
   "id": "6964d8de",
   "metadata": {},
   "source": [
    "# PROBLEM 6\n",
    "\n",
    "## Aquarius health club, one of the largest and most popular cross-fit gyms in the country has been advertising a rigorous program for body conditioning. The program is considered successful if the candidate is able to do more than 5 push-ups, as compared to when he/she enrolled in the program. Using the sample data provided can you conclude whether the program is successful? (Consider the level of Significance as 5%)\n",
    "\n",
    "### Note that this is a problem of the paired-t-test. Since the claim is that the training will make a difference of more than 5, the null and alternative hypotheses must be formed accordingly."
   ]
  },
  {
   "cell_type": "code",
   "execution_count": 195,
   "id": "f16c1d80",
   "metadata": {},
   "outputs": [],
   "source": [
    "#importing packacges\n",
    "\n",
    "import numpy as np\n",
    "import pandas as pd\n",
    "from scipy.stats import f\n",
    "import matplotlib.pyplot as plt \n",
    "%matplotlib inline\n",
    "import seaborn as sns\n",
    "import scipy.stats as stats\n",
    "from scipy.stats import ttest_1samp, ttest_ind\n",
    "from statsmodels.stats.power import ttest_power"
   ]
  },
  {
   "cell_type": "code",
   "execution_count": 81,
   "id": "7820d82a",
   "metadata": {},
   "outputs": [
    {
     "data": {
      "text/html": [
       "<div>\n",
       "<style scoped>\n",
       "    .dataframe tbody tr th:only-of-type {\n",
       "        vertical-align: middle;\n",
       "    }\n",
       "\n",
       "    .dataframe tbody tr th {\n",
       "        vertical-align: top;\n",
       "    }\n",
       "\n",
       "    .dataframe thead th {\n",
       "        text-align: right;\n",
       "    }\n",
       "</style>\n",
       "<table border=\"1\" class=\"dataframe\">\n",
       "  <thead>\n",
       "    <tr style=\"text-align: right;\">\n",
       "      <th></th>\n",
       "      <th>Sr no.</th>\n",
       "      <th>Before</th>\n",
       "      <th>After</th>\n",
       "    </tr>\n",
       "  </thead>\n",
       "  <tbody>\n",
       "    <tr>\n",
       "      <th>0</th>\n",
       "      <td>1</td>\n",
       "      <td>39</td>\n",
       "      <td>44</td>\n",
       "    </tr>\n",
       "    <tr>\n",
       "      <th>1</th>\n",
       "      <td>2</td>\n",
       "      <td>25</td>\n",
       "      <td>25</td>\n",
       "    </tr>\n",
       "    <tr>\n",
       "      <th>2</th>\n",
       "      <td>3</td>\n",
       "      <td>39</td>\n",
       "      <td>39</td>\n",
       "    </tr>\n",
       "    <tr>\n",
       "      <th>3</th>\n",
       "      <td>4</td>\n",
       "      <td>6</td>\n",
       "      <td>13</td>\n",
       "    </tr>\n",
       "    <tr>\n",
       "      <th>4</th>\n",
       "      <td>5</td>\n",
       "      <td>40</td>\n",
       "      <td>44</td>\n",
       "    </tr>\n",
       "  </tbody>\n",
       "</table>\n",
       "</div>"
      ],
      "text/plain": [
       "   Sr no.  Before  After\n",
       "0       1      39     44\n",
       "1       2      25     25\n",
       "2       3      39     39\n",
       "3       4       6     13\n",
       "4       5      40     44"
      ]
     },
     "execution_count": 81,
     "metadata": {},
     "output_type": "execute_result"
    }
   ],
   "source": [
    "#loading data set\n",
    "aquarius= pd.read_csv(\"Aquarius_gym.csv\")\n",
    "aquarius.head()  #checking dataset"
   ]
  },
  {
   "cell_type": "code",
   "execution_count": 82,
   "id": "13d97030",
   "metadata": {},
   "outputs": [
    {
     "data": {
      "text/plain": [
       "(100, 3)"
      ]
     },
     "execution_count": 82,
     "metadata": {},
     "output_type": "execute_result"
    }
   ],
   "source": [
    "aquarius.shape"
   ]
  },
  {
   "cell_type": "code",
   "execution_count": 84,
   "id": "7eef492d",
   "metadata": {},
   "outputs": [
    {
     "name": "stdout",
     "output_type": "stream",
     "text": [
      "<class 'pandas.core.frame.DataFrame'>\n",
      "RangeIndex: 100 entries, 0 to 99\n",
      "Data columns (total 3 columns):\n",
      " #   Column  Non-Null Count  Dtype\n",
      "---  ------  --------------  -----\n",
      " 0   Sr no.  100 non-null    int64\n",
      " 1   Before  100 non-null    int64\n",
      " 2   After   100 non-null    int64\n",
      "dtypes: int64(3)\n",
      "memory usage: 2.5 KB\n"
     ]
    }
   ],
   "source": [
    "aquarius.info()"
   ]
  },
  {
   "cell_type": "markdown",
   "id": "a9ed8970",
   "metadata": {},
   "source": [
    "- 100 rows and 3 columns"
   ]
  },
  {
   "cell_type": "code",
   "execution_count": 85,
   "id": "f5c67d01",
   "metadata": {},
   "outputs": [
    {
     "data": {
      "text/plain": [
       "Sr no.    0\n",
       "Before    0\n",
       "After     0\n",
       "dtype: int64"
      ]
     },
     "execution_count": 85,
     "metadata": {},
     "output_type": "execute_result"
    }
   ],
   "source": [
    "# Check for missing value in any colum\n",
    "aquarius.isnull().sum()"
   ]
  },
  {
   "cell_type": "code",
   "execution_count": 86,
   "id": "6c3451b3",
   "metadata": {
    "scrolled": true
   },
   "outputs": [
    {
     "name": "stdout",
     "output_type": "stream",
     "text": [
      "Number of duplicate rows = 0\n"
     ]
    },
    {
     "data": {
      "text/html": [
       "<div>\n",
       "<style scoped>\n",
       "    .dataframe tbody tr th:only-of-type {\n",
       "        vertical-align: middle;\n",
       "    }\n",
       "\n",
       "    .dataframe tbody tr th {\n",
       "        vertical-align: top;\n",
       "    }\n",
       "\n",
       "    .dataframe thead th {\n",
       "        text-align: right;\n",
       "    }\n",
       "</style>\n",
       "<table border=\"1\" class=\"dataframe\">\n",
       "  <thead>\n",
       "    <tr style=\"text-align: right;\">\n",
       "      <th></th>\n",
       "      <th>Sr no.</th>\n",
       "      <th>Before</th>\n",
       "      <th>After</th>\n",
       "    </tr>\n",
       "  </thead>\n",
       "  <tbody>\n",
       "  </tbody>\n",
       "</table>\n",
       "</div>"
      ],
      "text/plain": [
       "Empty DataFrame\n",
       "Columns: [Sr no., Before, After]\n",
       "Index: []"
      ]
     },
     "execution_count": 86,
     "metadata": {},
     "output_type": "execute_result"
    }
   ],
   "source": [
    "dups = aquarius.duplicated()\n",
    "print('Number of duplicate rows = %d' % (dups.sum()))\n",
    "aquarius[dups]"
   ]
  },
  {
   "cell_type": "code",
   "execution_count": 106,
   "id": "07e829c4",
   "metadata": {},
   "outputs": [
    {
     "name": "stdout",
     "output_type": "stream",
     "text": [
      "The mean of pushups before joing the program is 26.94\n",
      "The mean of pushups after joing the program is 32.49\n",
      "The standard deviation of pushups before joing the program is 8.806\n",
      "The standard deviation of pushups after joing the program is 8.78\n"
     ]
    }
   ],
   "source": [
    "mu1_aqua = aquarius['Before'].mean() \n",
    "sigma1_aqua = aquarius['Before'].std()\n",
    "mu2_aqua = aquarius['After'].mean()\n",
    "sigma2_aqua = aquarius['After'].std()\n",
    "\n",
    "print(\"The mean of pushups before joing the program is\", round(mu1_aqua, 3))\n",
    "print(\"The mean of pushups after joing the program is\", round(mu2_aqua, 2))\n",
    "\n",
    "print(\"The standard deviation of push-ups before joing the program is\", round(sigma1_aqua, 3))\n",
    "print(\"The standard deviation of push-ups after joing the program is\", round(sigma2_aqua, 2))"
   ]
  },
  {
   "cell_type": "markdown",
   "id": "7f14164f",
   "metadata": {},
   "source": [
    "##### Testing whether the new program in the gym is successful or not.\n",
    "\n",
    "#### Hypothesis assumption:\n",
    "\n",
    "* For null hypothesis, the candidate is able not to do more than 5 push-ups even after entering in the program, **$\\mu_{2}{aqua}$ $\\geq$  $\\mu_{1}{aqua}$**\n",
    "* For alternative hypthesis, the candidate is able to do more than 5 pus-hups after entering to the program, **$\\mu_{2}{aqua}$ < $\\mu_{1}{aqua}$**\n",
    "\n",
    "* $H_0$: **$\\mu_{1}{aqua}$ - $\\mu_{2}{aqua}$** $\\geq$  **0**\n",
    "* $H_A$: **$\\mu_{1}{aqua}$ - $\\mu_{2}{aqua}$** <  **0**\n",
    "\n",
    "Here, **$\\mu_{1}{aqua}$**  denotes the mean of push-ups before joing the program and **$\\mu_{2}{aqua}$** denotes the mean of push-ups after joing the program."
   ]
  },
  {
   "cell_type": "markdown",
   "id": "928d8308",
   "metadata": {},
   "source": [
    "Here we have ***Level of Significance***, $\\alpha$ = 0.05 as given in the question. "
   ]
  },
  {
   "cell_type": "markdown",
   "id": "4dd85f52",
   "metadata": {},
   "source": [
    "#### Using paired T-test"
   ]
  },
  {
   "cell_type": "code",
   "execution_count": 131,
   "id": "bf17c08d",
   "metadata": {},
   "outputs": [
    {
     "name": "stdout",
     "output_type": "stream",
     "text": [
      "tstat  -19.323\n",
      "p-value for one-tail: 1.1460209626255983e-35\n"
     ]
    }
   ],
   "source": [
    "# paired t-test: doing two measurments on the same experimental unit\n",
    "# e.g., before and after a treatment\n",
    "t_stats, p_val  =  stats.ttest_rel(aquarius['Before'],aquarius['After'])\n",
    "print('tstat  %1.3f' % t_stats)    \n",
    "print(\"p-value for one-tail:\", p_val/2)"
   ]
  },
  {
   "cell_type": "code",
   "execution_count": 136,
   "id": "92183fba",
   "metadata": {},
   "outputs": [
    {
     "name": "stdout",
     "output_type": "stream",
     "text": [
      "Paired two-sample t-test p-value= 1.1460209626255983e-35\n",
      "We have enough evidence to reject the null hypothesis in favour of alternative hypothesis\n",
      "The candidate is able not to do more than 5 push-ups even after entering in the program\n"
     ]
    }
   ],
   "source": [
    "# if p_value < 0.05 => alternative hypothesis:\n",
    "print (\"Paired two-sample t-test p-value=\", p_val/2)\n",
    "\n",
    "alpha = 0.05\n",
    "\n",
    "if (p_val/2) < alpha :\n",
    "    print('We have enough evidence to reject the null hypothesis in favour of alternative hypothesis')\n",
    "    print('The candidate is able not to do more than 5 push-ups even after entering in the program')\n",
    "    \n",
    "else:\n",
    "    print('We do not have enough evidence to reject the null hypothesis in favour of alternative hypothesis')\n",
    "    print ('The candidate is able to do more than 5 pus-hups after entering to the program')"
   ]
  },
  {
   "cell_type": "code",
   "execution_count": null,
   "id": "ad6c4c66",
   "metadata": {},
   "outputs": [],
   "source": []
  },
  {
   "cell_type": "code",
   "execution_count": null,
   "id": "5d8c8035",
   "metadata": {},
   "outputs": [],
   "source": []
  },
  {
   "cell_type": "code",
   "execution_count": null,
   "id": "26ca437a",
   "metadata": {},
   "outputs": [],
   "source": []
  },
  {
   "cell_type": "code",
   "execution_count": null,
   "id": "b1ff1170",
   "metadata": {},
   "outputs": [],
   "source": []
  }
 ],
 "metadata": {
  "kernelspec": {
   "display_name": "Python 3 (ipykernel)",
   "language": "python",
   "name": "python3"
  },
  "language_info": {
   "codemirror_mode": {
    "name": "ipython",
    "version": 3
   },
   "file_extension": ".py",
   "mimetype": "text/x-python",
   "name": "python",
   "nbconvert_exporter": "python",
   "pygments_lexer": "ipython3",
   "version": "3.9.12"
  }
 },
 "nbformat": 4,
 "nbformat_minor": 5
}
